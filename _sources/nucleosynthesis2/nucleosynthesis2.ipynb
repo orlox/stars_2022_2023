{
 "cells": [
  {
   "cell_type": "markdown",
   "metadata": {},
   "source": [
    "# Nuclear processes in stars 2\n",
    "<div style=\"text-align: justify\">"
   ]
  },
  {
   "cell_type": "markdown",
   "metadata": {},
   "source": [
    "## Pen & paper exercises\n",
    "\n",
    "### Timescales for different burning phases\n",
    "\n",
    "Consider the main isotopes of hydrogen, helium, carbon and oxygen that are produced through nuclear reactions in stellar interiors:\n",
    "\n",
    "| **isotope** | $Z$ | $A$ | $m/m_u$ |\n",
    "|:-----------:|:---:|:---:|:----------:|\n",
    "|    **H**    |  1  |  1  |  1.007825  |\n",
    "|    **He**   |  2  |  4  |  4.002603  |\n",
    "|    **C**   |  6  |  12  |  12.000000  |\n",
    "|    **O**   |  8  |  16  |  15.994915  |\n",
    "\n",
    "Simplify all nuclear burning stages by assuming that they proceed as (we ignore neon burning here):\n",
    "- The star is composed purely of helium at the start\n",
    "- All hydrogen is burnt into helium\n",
    "- All helium is burnt into carbon\n",
    "- All carbon is burnt into oxygen\n",
    "\n",
    "If through these burning phases the star has a fixed luminosity, determine the duration of each burning phase relative to the core hydrogen burning phase. Ignore any energy loss through neutrinos."
   ]
  },
  {
   "cell_type": "markdown",
   "metadata": {},
   "source": [
    "## Computational exercises\n",
    "\n",
    "No computational exercises this session."
   ]
  },
  {
   "cell_type": "markdown",
   "metadata": {},
   "source": [
    "## Solution to pen & paper exercises\n",
    "\n",
    "### Timescales for different burning phases\n",
    "\n",
    "If the luminosity is fixed, we only need to consider the mass difference per baryon through each burning stage. For Hydrogen burning we will have:\n",
    "\n",
    "$$\\frac{\\Delta m_{H-He}}{m_\\mathrm{u}}=\\left(1.007825-\\frac{4.002603}{4}\\right)=0.007174.$$\n",
    "\n",
    "We repeat this for all other stages:\n",
    "\n",
    "$$\\frac{\\Delta m_{He-C}}{m_\\mathrm{u}}=\\left(\\frac{4.002603}{4}-\\frac{12}{12}\\right)=0.000651,$$\n",
    "$$\\frac{\\Delta m_{C-O}}{m_\\mathrm{u}}=\\left(\\frac{12}{12}-\\frac{15.994915}{16}\\right)=0.000031,$$\n",
    "$$\\frac{\\Delta m_{O-Si}}{m_\\mathrm{u}}=\\left(\\frac{15.994915}{16}-\\frac{27.976930}{28}\\right)=0.000031,$$\n"
   ]
  },
  {
   "cell_type": "markdown",
   "metadata": {},
   "source": []
  }
 ],
 "metadata": {
  "kernelspec": {
   "display_name": "Julia 1.8.1",
   "language": "julia",
   "name": "julia-1.8"
  },
  "language_info": {
   "name": "julia"
  },
  "orig_nbformat": 4
 },
 "nbformat": 4,
 "nbformat_minor": 2
}
