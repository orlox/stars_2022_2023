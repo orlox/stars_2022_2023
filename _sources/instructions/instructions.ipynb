{
 "cells": [
  {
   "attachments": {},
   "cell_type": "markdown",
   "id": "de88391a",
   "metadata": {},
   "source": [
    "# Instructions\n",
    "<div style=\"text-align: justify\"> \n",
    "\n",
    "The following are some instructions on how to get a physical notebook (.ipynb extension) out of the chapters of these lecture notes, and compile it locally on your machines. First of all, which chapter do you want to get your hands on? Choose your favorite one. My favorite will be: <i> \"2. The equations of stellar structure and evolution\" </i>. Open that one and select the download symbol:\n",
    "\n",
    "![alt text for screen readers](./Download_idiotproof.png \"Download instructions\")\n",
    "\n",
    "Then download the notebook .ipynb in your favorite directory. We'll get back to this later.\n",
    "\n",
    "## Linux-based systems\n",
    "\n",
    "### Getting Julia\n",
    "\n",
    "The provided notebooks are written in Julia (check out https://julialang.org/), so first step will be to install Julia in your Linux-based machines. Go to the page of the downloadable releases, \n",
    "<center>\n",
    "\n",
    "https://julialang.org/downloads/\n",
    "\n",
    "</center> \n",
    "\n",
    "and download the version that suits your system in your home directory, which will have a name of this sort ```\\home\\annachiara```. Be sure to download the latest stable release, avoid older versions. <br>\n",
    "In the following, I am going to assume that \n",
    "<ul>\n",
    "\n",
    "<li>\n",
    "\n",
    "You downloaded the compressed file ```julia-1.8.2-linux-x86_64.tar.gz``` ;\n",
    "</li>\n",
    "<li>\n",
    "\n",
    "Your home directory is called ```HOME_DIR```.\n",
    "</li>\n",
    "</ul>\n",
    "\n",
    "You should adapt the commands to the version you downloaded and the folder you chose.\n",
    "<br><br><br>\n",
    "We need to open a terminal, a command-line interface to communicate directly with your computer. To do so, press ```ctrl+shift+T``` on your keyboard. Type then the following commands:\n",
    "\n",
    "```bash\n",
    "# Move to the download directory\n",
    "cd HOME_DIR\n",
    "# Uncompress the .tar.gz\n",
    "tar zxvf julia-1.8.2-linux-x86_64.tar.gz\n",
    "```\n",
    "\n",
    "This will create a folder called ```julia-1.8.2``` in ```HOME_DIR```. You can find your executable in ```HOME_DIR/julia-1.8.2/bin/julia```."
   ]
  },
  {
   "cell_type": "markdown",
   "id": "c2468085",
   "metadata": {},
   "source": [
    "### Setting up Julia\n",
    "\n",
    "For saving time, we'll add the path of your executable in your ```.bashrc``` file, which contains all the informations that your (bash) shell extracts at each shell session. To edit the ```.bashrc``` file, I am going to use the ```nano``` text editor, but you can use your favorite text editor. So\n",
    "\n",
    "```bash\n",
    "# Open the .bashrc file\n",
    "nano ~/.bashrc\n",
    "```\n",
    "\n",
    "Copy and paste the following line at the bottom of the file:\n",
    "\n",
    "```bash\n",
    "alias julia=/HOME_DIR/julia-1.8.2/bin/julia\n",
    "```\n",
    "\n",
    "To save changes and exit from nano, you'll have to press ```ctrl+X``` , then ```Y``` to accept to save the modified buffer and then ```enter```. Now, everytime you'll open a shell, you'll be able to call Julia by simply typing  \n",
    "\n",
    "```bash\n",
    "#Open Julia\n",
    "julia\n",
    "```\n",
    "\n",
    "Try it and see the greeting message 😁"
   ]
  },
  {
   "cell_type": "markdown",
   "id": "db041554",
   "metadata": {},
   "source": [
    "![alt text for screen readers](./Julia_screen.png \"Greetings from Julia!\")"
   ]
  },
  {
   "cell_type": "markdown",
   "id": "3414e530",
   "metadata": {},
   "source": [
    "### Getting the Julia notebook\n",
    "\n",
    "We want to get the Julia notebook now, to be able to execute an .ipynb file. Within Julia, type the following in your terminal:\n",
    "\n",
    "```bash\n",
    "# Open up the package manager\n",
    "]\n",
    "# Install the Julia notebook package\n",
    "add IJulia\n",
    "```\n",
    "\n",
    "The installation of the notebook should take a few minutes. At the end, press ```ctrl+C``` to go out of the package manager. Within Julia, type\n",
    "\n",
    "```bash\n",
    "# Declare that you'll use the Julia notebook package\n",
    "using IJulia\n",
    "# Call the Julia notebook package\n",
    "notebook()\n",
    "```\n",
    "\n",
    "If you're asked to install Jupyter via Conda, accept by pressing ```Y+enter```. This should get you Jupyter notebook, the web-based computing platform that will run your Julia notebooks in your favorite browser. This installation should also take a few minutes."
   ]
  },
  {
   "cell_type": "markdown",
   "id": "0a1b7eb3",
   "metadata": {},
   "source": [
    "### Open up your notebook\n",
    "\n",
    "Once Jupyter is launched, you should see a window popping up in your favorite browser. That window is going to show you an interactive platform that lists all your files in your ```HOME_DIR```. Something like this:"
   ]
  },
  {
   "cell_type": "markdown",
   "id": "57194ffb",
   "metadata": {},
   "source": [
    "![alt text for screen readers](./juppy.png \"Jupyter screen\")"
   ]
  },
  {
   "cell_type": "markdown",
   "id": "542dafb3",
   "metadata": {},
   "source": [
    "At this point, you just need to find the .ipynb file you downloaded into your favorite directory in the first step. Open it, and the game is done ✅"
   ]
  },
  {
   "cell_type": "markdown",
   "id": "d0c46eac",
   "metadata": {},
   "source": [
    "## Windows users\n",
    "\n",
    "### Getting Julia\n",
    "\n",
    "The provided notebooks are written in Julia (check out https://julialang.org/), so first step will be to install Julia in your Windows machines. Julia is available for Windows 7 and later for both 32 bit and 64 bit versions. Go to the page of the downloadable releases, \n",
    "<center>\n",
    "\n",
    "https://julialang.org/downloads/\n",
    "\n",
    "</center> \n",
    "\n",
    "and download the version that suits your system: note that The 32-bit Julia binaries work on both 32-bit and 64-bit Windows (x86 and x86_64), but the 64-bit Julia binaries only run on 64-bit Windows (x86_64). Also, note that you're downloading an <b>installer</b>, which is supposed to do everything for you 😉\n",
    "\n",
    "Download the installer in your Download, which will have a path of this sort ```C:\\Users\\Annachiara\\Download```. Be sure to download the latest stable release, avoid older versions. <br>\n",
    "In the following, I am going to assume that \n",
    "<ul>\n",
    "\n",
    "<li>\n",
    "\n",
    "You downloaded the compressed file ```julia-1.8.2-win64.exe``` ;\n",
    "</li>\n",
    "<li>\n",
    "\n",
    "Your Download directory is called ```DOWN_DIR```.\n",
    "</li>\n",
    "</ul>\n",
    "\n",
    "You should adapt the commands to the version you downloaded and the folder you chose.\n",
    "<br><br><br>\n",
    "\n",
    "Run the installer you just downloaded, by double clicking on the executable and giving permissions to install Julia in the suggested installation directory. Be sure to check the box asking you to \"Add Julia to path\", because it will automatically add Julia to Environment Variables of your system! See screenshot below:\n",
    "\n",
    "![alt text for screen readers](./Win_exe_path.png \"Julia exe path\")\n"
   ]
  },
  {
   "cell_type": "markdown",
   "id": "03f0acb8",
   "metadata": {},
   "source": [
    "### Open up Julia\n",
    "\n",
    "To open Julia we need to open a terminal, a command-line interface to communicate directly with your computer. To do so in your Windows machine, you'll need to press the shortcut ```Windows+R``` to launch the \"Run\" box; afterwards, type “cmd” and then click “OK” to open the Command Prompt (see screenshot below). \n",
    "Invoke Julia by simply typing ```julia``` and see the greeting message 😁 \n",
    "\n",
    "```bash\n",
    "# Open Julia\n",
    "julia\n",
    "```\n",
    "\n",
    "![alt text for screen readers](./Julia+cmd.png \"Julia cmd+welcome\")"
   ]
  },
  {
   "cell_type": "markdown",
   "id": "70c56440",
   "metadata": {},
   "source": [
    "### Getting the Julia notebook\n",
    "\n",
    "\n"
   ]
  },
  {
   "cell_type": "markdown",
   "id": "6fb3321a",
   "metadata": {},
   "source": [
    "Once Julia is open and welcomes you, the steps to get the Julia notebook are more or less the same as you would do in Linux. Within Julia, type the following in your terminal:\n",
    "\n",
    "```bash\n",
    "# Open up the package manager\n",
    "]\n",
    "# Install the Julia notebook package\n",
    "add IJulia\n",
    "```\n",
    "\n",
    "The installation of the notebook should take a few minutes. At the end, press ```ctrl+C``` to go out of the package manager. Within Julia, type\n",
    "\n",
    "```bash\n",
    "# Declare that you'll use the Julia notebook package\n",
    "using IJulia\n",
    "# Call the Julia notebook package\n",
    "notebook()\n",
    "```\n",
    "\n",
    "If you are asked to install Jupyter via Conda, accept by pressing ```Y+enter```. This should get you Jupyter notebook, the web-based computing platform that will run your Julia notebooks in your favorite browser. This installation should also take a few minutes."
   ]
  },
  {
   "cell_type": "markdown",
   "id": "0a1b7eb3",
   "metadata": {},
   "source": [
    "### Open up your notebook\n",
    "\n",
    "Once Jupyter is launched, you should see a window popping up in your favorite browser. That window is going to show you an interactive platform that lists all your files in your ```HOME_DOWN```. Something like this:"
   ]
  },
  {
   "cell_type": "markdown",
   "id": "57194ffb",
   "metadata": {},
   "source": [
    "![alt text for screen readers](./juppy_WIN.png \"Jupyter screen\")"
   ]
  },
  {
   "cell_type": "markdown",
   "id": "542dafb3",
   "metadata": {},
   "source": [
    "At this point, you just need to find the .ipynb file you downloaded into your favorite directory in the first step. Open it, and the game is done ✅"
   ]
  }
 ],
 "metadata": {
  "kernelspec": {
   "display_name": "Julia 1.8.2",
   "language": "julia",
   "name": "julia-1.8"
  },
  "language_info": {
   "file_extension": ".jl",
   "mimetype": "application/julia",
   "name": "julia",
   "version": "1.8.2"
  }
 },
 "nbformat": 4,
 "nbformat_minor": 5
}
